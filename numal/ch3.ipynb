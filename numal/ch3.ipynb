{
 "cells": [
  {
   "cell_type": "markdown",
   "metadata": {},
   "source": [
    "## 解答\n",
    "\n",
    "下面的代码用自制的Cholesky分解和scipy库给出的Cholesky分解，分别求解了一系列和Hilbert矩阵有关的问题。有以下发现：\n",
    "\n",
    "- 我的实现在测试的例子中比scipy的库函数误差更小\n",
    "- Hilbert矩阵非常病态，十分接近奇异矩阵。具体来说，它的cond值特别大，与n成指数关系，这导致了：\n",
    "  - H_14被两种算法都判定为奇异矩阵\n",
    "  - 求解 Hx=b，b的微小差异对x的影响极大\n",
    "  - 这些性质直接导致 scipy 中的相关函数报错\n",
    "\n",
    "在 https://mathoverflow.net/questions/137059/the-singular-values-of-the-hilbert-matrix 记载了一些关于 Hilbert 矩阵奇异性的渐进分析可供参考。Matlab官方推荐使用符号计算处理 Hilbert 矩阵相关问题。"
   ]
  },
  {
   "cell_type": "code",
   "execution_count": 1,
   "metadata": {},
   "outputs": [],
   "source": [
    "import numpy as np\n",
    "import matplotlib.pyplot as plt"
   ]
  },
  {
   "cell_type": "code",
   "execution_count": 2,
   "metadata": {},
   "outputs": [],
   "source": [
    "def cholesky(A: np.array):\n",
    "    n = A.shape[0]\n",
    "    for j in range(n):\n",
    "        for k in range(j):\n",
    "            A[j, j] -= A[j, k] ** 2\n",
    "        A[j, j] = np.sqrt(A[j, j])\n",
    "        for i in range(j + 1, n):\n",
    "            for k in range(j):\n",
    "                A[i, j] -= A[i, k] * A[j, k]\n",
    "            A[i, j] /= A[j, j]\n",
    "    return A\n",
    "def solve_Lx_b(L: np.array, b: np.array):\n",
    "    n = L.shape[0]\n",
    "    x = np.zeros(n)\n",
    "    for i in range(n):\n",
    "        x[i] = b[i]\n",
    "        for j in range(i):\n",
    "            x[i] -= L[i, j] * x[j]\n",
    "        x[i] /= L[i, i]\n",
    "    return x\n",
    "def solve_Ux_b(U: np.array, b: np.array):\n",
    "    n = U.shape[0]\n",
    "    x = np.zeros(n)\n",
    "    for i in range(n - 1, -1, -1):\n",
    "        x[i] = b[i]\n",
    "        for j in range(i + 1, n):\n",
    "            x[i] -= U[i, j] * x[j]\n",
    "        x[i] /= U[i, i]\n",
    "    return x"
   ]
  },
  {
   "cell_type": "code",
   "execution_count": 3,
   "metadata": {},
   "outputs": [
    {
     "name": "stdout",
     "output_type": "stream",
     "text": [
      "(0.0006437815559028337, 0.2211167902289246)\n",
      "(53974.107015939335, 2249.0904516247733)\n",
      "(6.271987497141751e-07, 0.196982595825971)\n",
      "(0.355545598229285, 0.24029154364420474)\n",
      "(nan, nan)\n",
      "(0.0009051867107066069, 2.220446049250313e-16)\n",
      "(187136.81737277217, 1.106048586052566e-11)\n",
      "(7.844380782717764e-07, 2.220446049250313e-16)\n",
      "(0.5792093276753197, 2.220446049250313e-16)\n"
     ]
    },
    {
     "name": "stderr",
     "output_type": "stream",
     "text": [
      "/tmp/ipykernel_64768/1229710670.py:6: RuntimeWarning: invalid value encountered in sqrt\n",
      "  A[j, j] = np.sqrt(A[j, j])\n"
     ]
    },
    {
     "ename": "LinAlgError",
     "evalue": "14-th leading minor of the array is not positive definite",
     "output_type": "error",
     "traceback": [
      "\u001b[0;31m---------------------------------------------------------------------------\u001b[0m",
      "\u001b[0;31mLinAlgError\u001b[0m                               Traceback (most recent call last)",
      "Cell \u001b[0;32mIn[3], line 34\u001b[0m\n\u001b[1;32m     32\u001b[0m \u001b[38;5;28mprint\u001b[39m(get_errors2(\u001b[38;5;241m8\u001b[39m))\n\u001b[1;32m     33\u001b[0m \u001b[38;5;28mprint\u001b[39m(get_errors2(\u001b[38;5;241m12\u001b[39m))\n\u001b[0;32m---> 34\u001b[0m \u001b[38;5;28mprint\u001b[39m(\u001b[43mget_errors2\u001b[49m\u001b[43m(\u001b[49m\u001b[38;5;241;43m14\u001b[39;49m\u001b[43m)\u001b[49m)\n",
      "Cell \u001b[0;32mIn[3], line 20\u001b[0m, in \u001b[0;36mget_errors2\u001b[0;34m(n, error_in_b)\u001b[0m\n\u001b[1;32m     18\u001b[0m \u001b[38;5;28;01mif\u001b[39;00m error_in_b:\n\u001b[1;32m     19\u001b[0m     b \u001b[38;5;241m+\u001b[39m\u001b[38;5;241m=\u001b[39m np\u001b[38;5;241m.\u001b[39mrandom\u001b[38;5;241m.\u001b[39muniform(\u001b[38;5;241m-\u001b[39m\u001b[38;5;241m1\u001b[39m, \u001b[38;5;241m1\u001b[39m, n) \u001b[38;5;241m*\u001b[39m error_in_b\n\u001b[0;32m---> 20\u001b[0m factor \u001b[38;5;241m=\u001b[39m \u001b[43mcho_factor\u001b[49m\u001b[43m(\u001b[49m\u001b[43mH\u001b[49m\u001b[43m,\u001b[49m\u001b[43m \u001b[49m\u001b[43mlower\u001b[49m\u001b[38;5;241;43m=\u001b[39;49m\u001b[38;5;28;43;01mTrue\u001b[39;49;00m\u001b[43m,\u001b[49m\u001b[43m \u001b[49m\u001b[43moverwrite_a\u001b[49m\u001b[38;5;241;43m=\u001b[39;49m\u001b[38;5;28;43;01mTrue\u001b[39;49;00m\u001b[43m)\u001b[49m\n\u001b[1;32m     21\u001b[0m x_hat \u001b[38;5;241m=\u001b[39m cho_solve(factor, b)\n\u001b[1;32m     22\u001b[0m \u001b[38;5;28;01mreturn\u001b[39;00m np\u001b[38;5;241m.\u001b[39mlinalg\u001b[38;5;241m.\u001b[39mnorm(x_hat \u001b[38;5;241m-\u001b[39m x, \u001b[38;5;28mord\u001b[39m\u001b[38;5;241m=\u001b[39mnp\u001b[38;5;241m.\u001b[39minf), np\u001b[38;5;241m.\u001b[39mlinalg\u001b[38;5;241m.\u001b[39mnorm(b \u001b[38;5;241m-\u001b[39m H \u001b[38;5;241m@\u001b[39m x_hat, \u001b[38;5;28mord\u001b[39m\u001b[38;5;241m=\u001b[39mnp\u001b[38;5;241m.\u001b[39minf)\n",
      "File \u001b[0;32m~/miniconda3/envs/diffusion/lib/python3.10/site-packages/scipy/linalg/_decomp_cholesky.py:154\u001b[0m, in \u001b[0;36mcho_factor\u001b[0;34m(a, lower, overwrite_a, check_finite)\u001b[0m\n\u001b[1;32m     94\u001b[0m \u001b[38;5;28;01mdef\u001b[39;00m \u001b[38;5;21mcho_factor\u001b[39m(a, lower\u001b[38;5;241m=\u001b[39m\u001b[38;5;28;01mFalse\u001b[39;00m, overwrite_a\u001b[38;5;241m=\u001b[39m\u001b[38;5;28;01mFalse\u001b[39;00m, check_finite\u001b[38;5;241m=\u001b[39m\u001b[38;5;28;01mTrue\u001b[39;00m):\n\u001b[1;32m     95\u001b[0m \u001b[38;5;250m    \u001b[39m\u001b[38;5;124;03m\"\"\"\u001b[39;00m\n\u001b[1;32m     96\u001b[0m \u001b[38;5;124;03m    Compute the Cholesky decomposition of a matrix, to use in cho_solve\u001b[39;00m\n\u001b[1;32m     97\u001b[0m \n\u001b[0;32m   (...)\u001b[0m\n\u001b[1;32m    152\u001b[0m \n\u001b[1;32m    153\u001b[0m \u001b[38;5;124;03m    \"\"\"\u001b[39;00m\n\u001b[0;32m--> 154\u001b[0m     c, lower \u001b[38;5;241m=\u001b[39m \u001b[43m_cholesky\u001b[49m\u001b[43m(\u001b[49m\u001b[43ma\u001b[49m\u001b[43m,\u001b[49m\u001b[43m \u001b[49m\u001b[43mlower\u001b[49m\u001b[38;5;241;43m=\u001b[39;49m\u001b[43mlower\u001b[49m\u001b[43m,\u001b[49m\u001b[43m \u001b[49m\u001b[43moverwrite_a\u001b[49m\u001b[38;5;241;43m=\u001b[39;49m\u001b[43moverwrite_a\u001b[49m\u001b[43m,\u001b[49m\u001b[43m \u001b[49m\u001b[43mclean\u001b[49m\u001b[38;5;241;43m=\u001b[39;49m\u001b[38;5;28;43;01mFalse\u001b[39;49;00m\u001b[43m,\u001b[49m\n\u001b[1;32m    155\u001b[0m \u001b[43m                         \u001b[49m\u001b[43mcheck_finite\u001b[49m\u001b[38;5;241;43m=\u001b[39;49m\u001b[43mcheck_finite\u001b[49m\u001b[43m)\u001b[49m\n\u001b[1;32m    156\u001b[0m     \u001b[38;5;28;01mreturn\u001b[39;00m c, lower\n",
      "File \u001b[0;32m~/miniconda3/envs/diffusion/lib/python3.10/site-packages/scipy/linalg/_decomp_cholesky.py:37\u001b[0m, in \u001b[0;36m_cholesky\u001b[0;34m(a, lower, overwrite_a, clean, check_finite)\u001b[0m\n\u001b[1;32m     35\u001b[0m c, info \u001b[38;5;241m=\u001b[39m potrf(a1, lower\u001b[38;5;241m=\u001b[39mlower, overwrite_a\u001b[38;5;241m=\u001b[39moverwrite_a, clean\u001b[38;5;241m=\u001b[39mclean)\n\u001b[1;32m     36\u001b[0m \u001b[38;5;28;01mif\u001b[39;00m info \u001b[38;5;241m>\u001b[39m \u001b[38;5;241m0\u001b[39m:\n\u001b[0;32m---> 37\u001b[0m     \u001b[38;5;28;01mraise\u001b[39;00m LinAlgError(\u001b[38;5;124m\"\u001b[39m\u001b[38;5;132;01m%d\u001b[39;00m\u001b[38;5;124m-th leading minor of the array is not positive \u001b[39m\u001b[38;5;124m\"\u001b[39m\n\u001b[1;32m     38\u001b[0m                       \u001b[38;5;124m\"\u001b[39m\u001b[38;5;124mdefinite\u001b[39m\u001b[38;5;124m\"\u001b[39m \u001b[38;5;241m%\u001b[39m info)\n\u001b[1;32m     39\u001b[0m \u001b[38;5;28;01mif\u001b[39;00m info \u001b[38;5;241m<\u001b[39m \u001b[38;5;241m0\u001b[39m:\n\u001b[1;32m     40\u001b[0m     \u001b[38;5;28;01mraise\u001b[39;00m \u001b[38;5;167;01mValueError\u001b[39;00m(\u001b[38;5;124m'\u001b[39m\u001b[38;5;124mLAPACK reported an illegal value in \u001b[39m\u001b[38;5;132;01m{}\u001b[39;00m\u001b[38;5;124m-th argument\u001b[39m\u001b[38;5;124m'\u001b[39m\n\u001b[1;32m     41\u001b[0m                      \u001b[38;5;124m'\u001b[39m\u001b[38;5;124mon entry to \u001b[39m\u001b[38;5;124m\"\u001b[39m\u001b[38;5;124mPOTRF\u001b[39m\u001b[38;5;124m\"\u001b[39m\u001b[38;5;124m.\u001b[39m\u001b[38;5;124m'\u001b[39m\u001b[38;5;241m.\u001b[39mformat(\u001b[38;5;241m-\u001b[39minfo))\n",
      "\u001b[0;31mLinAlgError\u001b[0m: 14-th leading minor of the array is not positive definite"
     ]
    }
   ],
   "source": [
    "from scipy.linalg import hilbert, solve_triangular, cho_factor, cho_solve\n",
    "def get_errors(n, error_in_b=None):\n",
    "    x = np.ones(n)\n",
    "    H = hilbert(n)\n",
    "    b = H @ x\n",
    "    if error_in_b:\n",
    "        b += np.random.uniform(-1, 1, n) * error_in_b\n",
    "    L = cholesky(H)\n",
    "    U = L.T\n",
    "    y_hat = solve_Lx_b(L, b)\n",
    "    x_hat = solve_Ux_b(U, y_hat)\n",
    "    return np.linalg.norm(x_hat - x, ord=np.inf), np.linalg.norm(b - H @ x_hat, ord=np.inf)\n",
    "\n",
    "def get_errors2(n, error_in_b=None):\n",
    "    x = np.ones(n)\n",
    "    H = hilbert(n)\n",
    "    b = H @ x\n",
    "    if error_in_b:\n",
    "        b += np.random.uniform(-1, 1, n) * error_in_b\n",
    "    factor = cho_factor(H, lower=True, overwrite_a=True)\n",
    "    x_hat = cho_solve(factor, b)\n",
    "    return np.linalg.norm(x_hat - x, ord=np.inf), np.linalg.norm(b - H @ x_hat, ord=np.inf)\n",
    "\n",
    "print(get_errors(10))\n",
    "print(get_errors(10, 1e-7))\n",
    "print(get_errors(8))\n",
    "print(get_errors(12))\n",
    "print(get_errors(14))\n",
    "\n",
    "print(get_errors2(10))\n",
    "print(get_errors2(10, 1e-7))\n",
    "print(get_errors2(8))\n",
    "print(get_errors2(12))\n",
    "print(get_errors2(14))\n"
   ]
  }
 ],
 "metadata": {
  "kernelspec": {
   "display_name": "diffusion",
   "language": "python",
   "name": "python3"
  },
  "language_info": {
   "codemirror_mode": {
    "name": "ipython",
    "version": 3
   },
   "file_extension": ".py",
   "mimetype": "text/x-python",
   "name": "python",
   "nbconvert_exporter": "python",
   "pygments_lexer": "ipython3",
   "version": "3.10.11"
  }
 },
 "nbformat": 4,
 "nbformat_minor": 2
}
