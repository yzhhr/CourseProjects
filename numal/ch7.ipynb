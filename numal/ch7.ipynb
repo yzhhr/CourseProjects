{
 "cells": [
  {
   "cell_type": "markdown",
   "metadata": {},
   "source": [
    "# (1)\n",
    "\n",
    "We are to derive the following two integrals\n",
    "\n",
    "$$\n",
    "\\ln 2 = \\int_0^1 \\frac{1}{1+x}dx = \\int_0^1 f(x) dx\n",
    "$$\n",
    "\n",
    "and\n",
    "\n",
    "$$\n",
    "\\pi = \\int_0^1 \\frac{4}{1+x^2}dx = \\int_0^1 g(x) dx\n",
    "$$\n",
    "\n",
    "Recall the composite Simpson formula, that integrates a function $f(x)$ over the interval $[a,b]$ by first dividing the interval into $n$ subintervals of equal length $h = (b-a)/n$, and then approximating the integral in each interval by the formula\n",
    "\n",
    "$$\n",
    "S_i(f) = \\int_y^{y+h} f(x) dx = \\frac{h}{6} \\left[ f(y) + 4f(y+h/2) + f(y+h) \\right]\n",
    "$$\n",
    "\n",
    "where $y = a + i h$ for $i = 0,1,2,\\ldots,n-1$. $S(f) = \\sum_{i=0}^{n-1} S_i(f)$ is the composite Simpson formula for the integral of $f(x)$ over $[a,b]$. We can derive that the error of the composite Simpson formula is\n",
    "\n",
    "$$\n",
    "I(f) - S(f) = -\\frac{h^4}{2880} (b-a) f^{(4)}(\\xi), \\quad \\xi \\in [a,b]\n",
    "$$\n",
    "\n",
    "We can say roughly the error is $e(h) = \\sup |f^{(4)}(x)| (b-a) \\cdot h^4/2880$.\n",
    "\n",
    "In our case both functions have $\\sup |f^{(4)}|(x) = 24, b-a=1$, $e=10^{-8}/2$, we can solve to get $h=0.02783$ (h rounded down for control of error).\n",
    "\n",
    "### Result\n",
    "\n",
    "In the following code the results are calculated. Results are within the error bounds.\n",
    "\n",
    "# (2)\n",
    "\n",
    "The calculation is done very similarly. The error is $e(h) = \\sup |f^{(4)}(x)| (b-a) \\cdot h^4/4320$. All numerical results required by the problem are printed.\n"
   ]
  },
  {
   "cell_type": "code",
   "execution_count": 1,
   "metadata": {},
   "outputs": [
    {
     "name": "stdout",
     "output_type": "stream",
     "text": [
      "Selected h for f is hf = 0.0278315768371374\n",
      "Selected h for g is hg = 0.0196798967126543\n"
     ]
    }
   ],
   "source": [
    "import numpy as np\n",
    "import sympy, scipy\n",
    "import math\n",
    "from sympy.abc import x\n",
    "f_expr = 1 / (1 + x)\n",
    "g_expr = 4 / (1 + x * x)\n",
    "def select_h(f, x, method, a=0, b=1, eps=.5e-8):\n",
    "    if method == \"simpson\":\n",
    "        f4 = sympy.diff(f, x, x, x, x)\n",
    "        f4_max = sympy.maximum(f4, x, sympy.Interval(a,b))\n",
    "        f4_min = sympy.minimum(f4, x, sympy.Interval(a,b))\n",
    "        f4_norm = max(abs(f4_max), abs(f4_min))\n",
    "        h = (2880 * eps / f4_max / (b - a)) ** (1/4)\n",
    "    elif method == \"gauss\":\n",
    "        f4 = sympy.diff(f, x, x, x, x)\n",
    "        f4_max = sympy.maximum(f4, x, sympy.Interval(a,b))\n",
    "        f4_min = sympy.minimum(f4, x, sympy.Interval(a,b))\n",
    "        f4_norm = max(abs(f4_max), abs(f4_min))\n",
    "        h = (4380 * eps / f4_max / (b - a)) ** (1/4)\n",
    "    else:\n",
    "        raise ValueError(\"method must be 'simpson' or 'gauss'\")\n",
    "    return h\n",
    "\n",
    "hf = select_h(f_expr, x, \"simpson\")\n",
    "hg = select_h(g_expr, x, \"simpson\")\n",
    "print(f\"Selected h for f is {hf = }\")\n",
    "print(f\"Selected h for g is {hg = }\")"
   ]
  },
  {
   "cell_type": "code",
   "execution_count": 2,
   "metadata": {},
   "outputs": [
    {
     "name": "stdout",
     "output_type": "stream",
     "text": [
      "math.log(2) = 0.6931471805599453\n",
      "hf = 0.0278315768371374\n",
      "comp_simpson(f, 0, 1, hf) = 0.693147181722225\n",
      "comp_simpson(f, 0, 1, hf / 10) = 0.693147180560062\n",
      "math.pi = 3.141592653589793\n",
      "comp_simpson(g, 0, 1, hf) = 3.14159265358951\n",
      "comp_simpson(g, 0, 1, hf / 10) = 3.14159265358979\n",
      "Gauss method, selected h for f is hf = 0.0309070972225982\n",
      "Gauss method, selected h for g is hg = 0.0218546180328911\n",
      "comp_gauss(f, 0, 1, hf) = 0.693147179462666\n",
      "comp_gauss(f, 0, 1, hf / 10) = 0.693147180559827\n",
      "comp_gauss(g, 0, 1, hg) = 3.14159265358984\n",
      "comp_gauss(g, 0, 1, hg / 10) = 3.14159265358979\n"
     ]
    }
   ],
   "source": [
    "import math\n",
    "\n",
    "import scipy.integrate\n",
    "def f(x):\n",
    "    return 1 / (1 + x)\n",
    "def g(x):\n",
    "    return 4 / (1 + x * x)\n",
    "def comp_simpson(f, a, b, h):\n",
    "    # weights: (1 4 2 4 2 4 ... 2 4 1) * h / 6, where 4 at halfstep\n",
    "    n = math.ceil((b - a) / h)\n",
    "    h = (b - a) / n\n",
    "    x = np.linspace(a, b, 2 * n + 1)\n",
    "    # print(x.dtype, n)\n",
    "    y = f(x)\n",
    "    return h / 6 * (y[0] + 2 * np.sum(y[2:-2:2]) + 4 * np.sum(y[1:-1:2]) + y[-1])\n",
    "def comp_gauss(f, a, b, h):\n",
    "    n = math.ceil((b - a) / h)\n",
    "    h = (b - a) / n\n",
    "    x = np.linspace(a, b, n, endpoint=False)\n",
    "    yl = f(x + h / 2 - h / (2 * np.sqrt(3)))\n",
    "    yr = f(x + h / 2 + h / (2 * np.sqrt(3)))\n",
    "    return h / 2 * np.sum(yl + yr)\n",
    "scipy.integrate.simpson\n",
    "\n",
    "print(f\"{math.log(2) = }\")\n",
    "print(f\"{hf = }\")\n",
    "print(f\"{comp_simpson(f, 0, 1, hf) = }\")\n",
    "print(f\"{comp_simpson(f, 0, 1, hf / 10) = }\")\n",
    "\n",
    "print(f\"{math.pi = }\")\n",
    "print(f\"{comp_simpson(g, 0, 1, hf) = }\")\n",
    "print(f\"{comp_simpson(g, 0, 1, hf / 10) = }\")\n",
    "\n",
    "hf = select_h(f_expr, x, \"gauss\")\n",
    "hg = select_h(g_expr, x, \"gauss\")\n",
    "print(f\"Gauss method, selected h for f is {hf = }\")\n",
    "print(f\"Gauss method, selected h for g is {hg = }\")\n",
    "print(f\"{comp_gauss(f, 0, 1, hf) = }\")\n",
    "print(f\"{comp_gauss(f, 0, 1, hf / 10) = }\")\n",
    "print(f\"{comp_gauss(g, 0, 1, hg) = }\")\n",
    "print(f\"{comp_gauss(g, 0, 1, hg / 10) = }\")\n"
   ]
  }
 ],
 "metadata": {
  "kernelspec": {
   "display_name": "diffusion",
   "language": "python",
   "name": "python3"
  },
  "language_info": {
   "codemirror_mode": {
    "name": "ipython",
    "version": 3
   },
   "file_extension": ".py",
   "mimetype": "text/x-python",
   "name": "python",
   "nbconvert_exporter": "python",
   "pygments_lexer": "ipython3",
   "version": "3.1.-1"
  }
 },
 "nbformat": 4,
 "nbformat_minor": 2
}
